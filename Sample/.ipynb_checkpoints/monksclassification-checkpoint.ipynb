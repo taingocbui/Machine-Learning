{
 "cells": [
  {
   "cell_type": "code",
   "execution_count": null,
   "metadata": {},
   "outputs": [],
   "source": [
    "def load_monks(data_set_number):\n",
    "    \"\"\"Load the MONK's data.\n",
    "\n",
    "    Args:\n",
    "        data_set_number: which MONK's data set to use (1, 2, or 3)\n",
    "    Returns:\n",
    "        a tuple of numpy matrices, the first in the tuple is the training \n",
    "        data, second is test data. Each matrix row represents a data point \n",
    "        as a row vector: the first element of the row vector corresponds to \n",
    "        the label and the following elements correspond to attributes.\n",
    "    \"\"\"\n",
    "\n",
    "    if data_set_number not in [1, 2, 3]:\n",
    "        print \"Invalid argument\"\n",
    "        return\n",
    "\n",
    "    s = 'data/monks-'+str(data_set_number)+'.train'\n",
    "    f = open(s, 'r')\n",
    "    training = None\n",
    "    for line in f.readlines():\n",
    "        data = line.split(' ')\n",
    "        vector = [int(i) for i in data[1:-1]]\n",
    "        vector = np.array(vector)\n",
    "        if training is None:\n",
    "            training = vector\n",
    "        else:\n",
    "            training = np.vstack((training, vector))\n",
    "\n",
    "    s = 'data/monks-'+str(data_set_number)+'.test'\n",
    "    f = open(s, 'r')\n",
    "    test = None\n",
    "    for line in f.readlines():\n",
    "        data = line.split(' ')\n",
    "        vector = [int(i) for i in data[1:-1]]\n",
    "        vector = np.array(vector)\n",
    "        if test is None:\n",
    "            test = vector\n",
    "        else:\n",
    "            test = np.vstack((training, vector))\n",
    "    \n",
    "    return (training, test)"
   ]
  }
 ],
 "metadata": {
  "kernelspec": {
   "display_name": "Python 3",
   "language": "python",
   "name": "python3"
  },
  "language_info": {
   "codemirror_mode": {
    "name": "ipython",
    "version": 3
   },
   "file_extension": ".py",
   "mimetype": "text/x-python",
   "name": "python",
   "nbconvert_exporter": "python",
   "pygments_lexer": "ipython3",
   "version": "3.7.0"
  }
 },
 "nbformat": 4,
 "nbformat_minor": 2
}
