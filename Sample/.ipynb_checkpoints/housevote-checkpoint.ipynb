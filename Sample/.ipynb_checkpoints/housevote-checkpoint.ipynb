{
 "cells": [
  {
   "cell_type": "code",
   "execution_count": 2,
   "metadata": {},
   "outputs": [],
   "source": [
    "import pandas as pd\n",
    "import numpy as np\n",
    "import random"
   ]
  },
  {
   "cell_type": "code",
   "execution_count": 1,
   "metadata": {},
   "outputs": [],
   "source": [
    "def load_congress_data(training_ratio):\n",
    "    \"\"\"Load the congress data.\n",
    "\n",
    "    Note that missing values (denoted '?', where a voter abstained) are \n",
    "    instead treated as a third type of attribute. Therefore every feature\n",
    "    has 3 possible attributes.\n",
    "\n",
    "    Args:\n",
    "        training_ratio: the ratio of examples that go into the training set\n",
    "    Returns:\n",
    "        a tuple of numpy matrices, the first in the tuple is the training \n",
    "        data, second is test data. Each matrix row represents a data point \n",
    "        as a row vector: the first element of the row vector corresponds to \n",
    "        the label and the following elements correspond to attributes.\n",
    "    \"\"\"\n",
    "    random.seed(1) # get same data every time\n",
    "    label_conversions = {'republican' : 0, 'democrat' : 1, \n",
    "                         'n' : 0, 'y' : 1, '?' : 2} \n",
    "    f = open('data/house-votes-84.data', 'r')\n",
    "\n",
    "    training = None\n",
    "    test = None\n",
    "    lines = f.readlines()\n",
    "    train_index = int(len(lines)*training_ratio)\n",
    "    random.shuffle(lines)\n",
    "    for k, line in enumerate(lines):\n",
    "        data = line.split(',')\n",
    "        vector = [float(label_conversions[i.rstrip('\\n')]) for i in data]\n",
    "        vector = np.array(vector)\n",
    "        if k < train_index:\n",
    "            if training is None:\n",
    "                training = vector\n",
    "            else:\n",
    "                training = np.vstack((training, vector))\n",
    "        else:\n",
    "            if test is None:\n",
    "                test = vector\n",
    "            else:\n",
    "               test = np.vstack((test, vector))\n",
    "    return (training, test)"
   ]
  },
  {
   "cell_type": "code",
   "execution_count": null,
   "metadata": {},
   "outputs": [],
   "source": []
  }
 ],
 "metadata": {
  "kernelspec": {
   "display_name": "Python 3",
   "language": "python",
   "name": "python3"
  },
  "language_info": {
   "codemirror_mode": {
    "name": "ipython",
    "version": 3
   },
   "file_extension": ".py",
   "mimetype": "text/x-python",
   "name": "python",
   "nbconvert_exporter": "python",
   "pygments_lexer": "ipython3",
   "version": "3.7.0"
  }
 },
 "nbformat": 4,
 "nbformat_minor": 2
}
