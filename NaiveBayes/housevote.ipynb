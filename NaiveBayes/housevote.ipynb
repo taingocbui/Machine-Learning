{
 "cells": [
  {
   "cell_type": "code",
   "execution_count": 3,
   "metadata": {},
   "outputs": [],
   "source": [
    "import numpy as np\n",
    "import random"
   ]
  },
  {
   "cell_type": "code",
   "execution_count": 4,
   "metadata": {},
   "outputs": [
    {
     "ename": "AttributeError",
     "evalue": "module 'numpy' has no attribute 'array'",
     "output_type": "error",
     "traceback": [
      "\u001b[0;31m---------------------------------------------------------------------------\u001b[0m",
      "\u001b[0;31mAttributeError\u001b[0m                            Traceback (most recent call last)",
      "\u001b[0;32m<ipython-input-4-0912c44e52cd>\u001b[0m in \u001b[0;36m<module>\u001b[0;34m()\u001b[0m\n\u001b[1;32m     39\u001b[0m                 \u001b[0mtest\u001b[0m \u001b[0;34m=\u001b[0m \u001b[0mnp\u001b[0m\u001b[0;34m.\u001b[0m\u001b[0mvstack\u001b[0m\u001b[0;34m(\u001b[0m\u001b[0;34m(\u001b[0m\u001b[0mtest\u001b[0m\u001b[0;34m,\u001b[0m \u001b[0mvector\u001b[0m\u001b[0;34m)\u001b[0m\u001b[0;34m)\u001b[0m\u001b[0;34m\u001b[0m\u001b[0m\n\u001b[1;32m     40\u001b[0m     \u001b[0;32mreturn\u001b[0m \u001b[0;34m(\u001b[0m\u001b[0mtraining\u001b[0m\u001b[0;34m,\u001b[0m \u001b[0mtest\u001b[0m\u001b[0;34m)\u001b[0m\u001b[0;34m\u001b[0m\u001b[0m\n\u001b[0;32m---> 41\u001b[0;31m \u001b[0;34m(\u001b[0m\u001b[0mtraining\u001b[0m\u001b[0;34m,\u001b[0m \u001b[0mtest\u001b[0m\u001b[0;34m)\u001b[0m \u001b[0;34m=\u001b[0m \u001b[0mload_congress_data\u001b[0m\u001b[0;34m(\u001b[0m\u001b[0;36m0.6\u001b[0m\u001b[0;34m)\u001b[0m\u001b[0;34m\u001b[0m\u001b[0m\n\u001b[0m",
      "\u001b[0;32m<ipython-input-4-0912c44e52cd>\u001b[0m in \u001b[0;36mload_congress_data\u001b[0;34m(training_ratio)\u001b[0m\n\u001b[1;32m     27\u001b[0m         \u001b[0mdata\u001b[0m \u001b[0;34m=\u001b[0m \u001b[0mline\u001b[0m\u001b[0;34m.\u001b[0m\u001b[0msplit\u001b[0m\u001b[0;34m(\u001b[0m\u001b[0;34m','\u001b[0m\u001b[0;34m)\u001b[0m\u001b[0;34m\u001b[0m\u001b[0m\n\u001b[1;32m     28\u001b[0m         \u001b[0mvector\u001b[0m \u001b[0;34m=\u001b[0m \u001b[0;34m[\u001b[0m\u001b[0mfloat\u001b[0m\u001b[0;34m(\u001b[0m\u001b[0mlabel_conversions\u001b[0m\u001b[0;34m[\u001b[0m\u001b[0mi\u001b[0m\u001b[0;34m.\u001b[0m\u001b[0mrstrip\u001b[0m\u001b[0;34m(\u001b[0m\u001b[0;34m'\\n'\u001b[0m\u001b[0;34m)\u001b[0m\u001b[0;34m]\u001b[0m\u001b[0;34m)\u001b[0m \u001b[0;32mfor\u001b[0m \u001b[0mi\u001b[0m \u001b[0;32min\u001b[0m \u001b[0mdata\u001b[0m\u001b[0;34m]\u001b[0m\u001b[0;34m\u001b[0m\u001b[0m\n\u001b[0;32m---> 29\u001b[0;31m         \u001b[0mvector\u001b[0m \u001b[0;34m=\u001b[0m \u001b[0mnp\u001b[0m\u001b[0;34m.\u001b[0m\u001b[0marray\u001b[0m\u001b[0;34m(\u001b[0m\u001b[0mvector\u001b[0m\u001b[0;34m)\u001b[0m\u001b[0;34m\u001b[0m\u001b[0m\n\u001b[0m\u001b[1;32m     30\u001b[0m         \u001b[0;32mif\u001b[0m \u001b[0mk\u001b[0m \u001b[0;34m<\u001b[0m \u001b[0mtrain_index\u001b[0m\u001b[0;34m:\u001b[0m\u001b[0;34m\u001b[0m\u001b[0m\n\u001b[1;32m     31\u001b[0m             \u001b[0;32mif\u001b[0m \u001b[0mtraining\u001b[0m \u001b[0;32mis\u001b[0m \u001b[0;32mNone\u001b[0m\u001b[0;34m:\u001b[0m\u001b[0;34m\u001b[0m\u001b[0m\n",
      "\u001b[0;31mAttributeError\u001b[0m: module 'numpy' has no attribute 'array'"
     ]
    }
   ],
   "source": [
    "def load_congress_data(training_ratio):\n",
    "    \"\"\"Load the congress data.\n",
    "\n",
    "    Note that missing values (denoted '?', where a voter abstained) are \n",
    "    instead treated as a third type of attribute. Therefore every feature\n",
    "    has 3 possible attributes.\n",
    "\n",
    "    Args:\n",
    "        training_ratio: the ratio of examples that go into the training set\n",
    "    Returns:\n",
    "        a tuple of numpy matrices, the first in the tuple is the training \n",
    "        data, second is test data. Each matrix row represents a data point \n",
    "        as a row vector: the first element of the row vector corresponds to \n",
    "        the label and the following elements correspond to attributes.\n",
    "    \"\"\"\n",
    "    random.seed(1) # get same data every time\n",
    "    label_conversions = {'republican' : 0, 'democrat' : 1, \n",
    "                         'n' : 0, 'y' : 1, '?' : 2} \n",
    "    f = open('data/house-votes-84.data', 'r')\n",
    "\n",
    "    training = None\n",
    "    test = None\n",
    "    lines = f.readlines()\n",
    "    train_index = int(len(lines)*training_ratio)\n",
    "    random.shuffle(lines)\n",
    "    for k, line in enumerate(lines):\n",
    "        data = line.split(',')\n",
    "        vector = [float(label_conversions[i.rstrip('\\n')]) for i in data]\n",
    "        vector = np.array(vector)\n",
    "        if k < train_index:\n",
    "            if training is None:\n",
    "                training = vector\n",
    "            else:\n",
    "                training = np.vstack((training, vector))\n",
    "        else:\n",
    "            if test is None:\n",
    "                test = vector\n",
    "            else:\n",
    "                test = np.vstack((test, vector))\n",
    "    return (training, test)\n",
    "(training, test) = load_congress_data(0.6)"
   ]
  },
  {
   "cell_type": "code",
   "execution_count": null,
   "metadata": {},
   "outputs": [],
   "source": [
    "def step_one(training):\n",
    "    rep = 0\n",
    "    for col in training[:,0]:\n",
    "        if col == 0:\n",
    "            rep = rep+1\n",
    "    return [rep, training.shape[0]-rep , rep/training.shape[0], (training.shape[0]-rep)/training.shape[0]]"
   ]
  },
  {
   "cell_type": "code",
   "execution_count": null,
   "metadata": {},
   "outputs": [],
   "source": [
    "def step_two(training, feature):\n",
    "    p0givenRep = 0\n",
    "    p1givenRep = 0\n",
    "    p2givenRep = 0\n",
    "    p0givenDem = 0 \n",
    "    p1givenDem = 0\n",
    "    p2givenDem = 0\n",
    "    [nr, nd, rep, dem] = step_one(training)\n",
    "    for col in training:\n",
    "        if col[0] == 0:\n",
    "            if col[feature] == 0:\n",
    "                p0givenRep = p0givenRep + 1\n",
    "            elif col[feature] == 1:\n",
    "                p1givenRep = p1givenRep + 1\n",
    "            else:\n",
    "                p2givenRep = p2givenRep + 1\n",
    "        else:\n",
    "            if col[feature] == 0:\n",
    "                p0givenDem = p0givenDem + 1\n",
    "            elif col[feature] == 1:\n",
    "                p1givenDem = p1givenDem + 1\n",
    "            else:\n",
    "                p2givenDem = p2givenDem + 1\n",
    "    answer = [p0givenRep/nr, p1givenRep/nr, p2givenRep/nr, p0givenDem/nd, p1givenDem/nd, p2givenDem/nd]\n",
    "    return answer\n",
    "\n",
    "def get_prob_matrix(training):\n",
    "    matrix = []\n",
    "    for feature in range(1, len(training[0])):\n",
    "            row = step_two(training, feature)\n",
    "            matrix.append(row)\n",
    "    matrix = np.asarray(matrix)\n",
    "    return matrix\n",
    "\n",
    "def step_three(training, matrix, test):\n",
    "    [rep, dem, nrep, ndem] = step_one(training)\n",
    "    matrix = get_prob_matrix(training)\n",
    "    answer=[]\n",
    "    for row in test:\n",
    "        prep = 1\n",
    "        pdem = 1\n",
    "        for feature in range(0, len(row)-1):\n",
    "            if row[feature+1] == 0:\n",
    "                prep = prep * matrix[feature][0]\n",
    "                pdem = pdem * matrix[feature][3]\n",
    "            elif row[feature+1] == 1:\n",
    "                prep = prep * matrix[feature][1]\n",
    "                pdem = pdem * matrix[feature][4]\n",
    "            else:\n",
    "                prep = prep * matrix[feature][2]\n",
    "                pdem = pdem * matrix[feature][5]\n",
    "        prep = prep * rep\n",
    "        pdem = pdem * dem\n",
    "        if prep > pdem:\n",
    "            answer.append(0)\n",
    "        else: \n",
    "            answer.append(1)\n",
    "    return answer"
   ]
  },
  {
   "cell_type": "code",
   "execution_count": null,
   "metadata": {
    "scrolled": false
   },
   "outputs": [],
   "source": [
    "def accuracy():\n",
    "    (training, test) = load_congress_data(0.6)\n",
    "    correct = 0\n",
    "    index = 0\n",
    "    prediction = step_three(training, get_prob_matrix(training), test)\n",
    "    for col in test[:,0]:\n",
    "        if col == prediction[index]:\n",
    "            correct +=1\n",
    "        index +=1\n",
    "    return correct/test.shape[0]\n",
    "print(\"The accuracy is \", accuracy())"
   ]
  }
 ],
 "metadata": {
  "kernelspec": {
   "display_name": "Python 3",
   "language": "python",
   "name": "python3"
  },
  "language_info": {
   "codemirror_mode": {
    "name": "ipython",
    "version": 3
   },
   "file_extension": ".py",
   "mimetype": "text/x-python",
   "name": "python",
   "nbconvert_exporter": "python",
   "pygments_lexer": "ipython3",
   "version": "3.7.0"
  }
 },
 "nbformat": 4,
 "nbformat_minor": 2
}
