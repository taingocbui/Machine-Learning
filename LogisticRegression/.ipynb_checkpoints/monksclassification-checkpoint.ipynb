{
 "cells": [
  {
   "cell_type": "code",
   "execution_count": 3,
   "metadata": {},
   "outputs": [],
   "source": [
    "import numpy as np\n",
    "import random\n",
    "\n",
    "def load_monks(data_set_number):\n",
    "    \"\"\"Load the MONK's data.\n",
    "\n",
    "    Args:\n",
    "        data_set_number: which MONK's data set to use (1, 2, or 3)\n",
    "    Returns:\n",
    "        a tuple of numpy matrices, the first in the tuple is the training \n",
    "        data, second is test data. Each matrix row represents a data point \n",
    "        as a row vector: the first element of the row vector corresponds to \n",
    "        the label and the following elements correspond to attributes.\n",
    "    \"\"\"\n",
    "\n",
    "    if data_set_number not in [1, 2, 3]:\n",
    "        print(\"Invalid argument\")\n",
    "        return\n",
    "\n",
    "    s = 'data/monks-'+str(data_set_number)+'.train'\n",
    "    f = open(s, 'r')\n",
    "    training = None\n",
    "    for line in f.readlines():\n",
    "        data = line.split(' ')\n",
    "        vector = [int(i) for i in data[1:-1]]\n",
    "        vector = np.array(vector)\n",
    "        if training is None:\n",
    "            training = vector\n",
    "        else:\n",
    "            training = np.vstack((training, vector))\n",
    "\n",
    "    s = 'data/monks-'+str(data_set_number)+'.test'\n",
    "    f = open(s, 'r')\n",
    "    test = None\n",
    "    for line in f.readlines():\n",
    "        data = line.split(' ')\n",
    "        vector = [int(i) for i in data[1:-1]]\n",
    "        vector = np.array(vector)\n",
    "        if test is None:\n",
    "            test = vector\n",
    "        else:\n",
    "            test = np.vstack((training, vector))\n",
    "    \n",
    "    return (training, test)\n",
    "(training, test) = load_monks(1)\n"
   ]
  },
  {
   "cell_type": "code",
   "execution_count": 5,
   "metadata": {},
   "outputs": [
    {
     "name": "stdout",
     "output_type": "stream",
     "text": [
      "(124, 7)\n"
     ]
    }
   ],
   "source": [
    "# S is a numpy array\n",
    "# this function returns sigmoid function of each element of S\n",
    "def sigmoid(S):\n",
    "    return 1/(1+ np.exp(-S))\n",
    "\n",
    "# X is a 2 dimenstions numpy array with N datapoints and d features\n",
    "# w is a 1 dimension numpy array of shape d\n",
    "# this function returns sigmoid function of the dot product between X and w\n",
    "def prob(w, X):\n",
    "    return sigmoid(np.dot(X, w))\n",
    "\n",
    "\n",
    "def loss(w, X, y):\n",
    "    a = prob(w, X)\n",
    "    return -np.mean(y*np.log(a) + (1-y)*np.log(1-a))"
   ]
  },
  {
   "cell_type": "code",
   "execution_count": 13,
   "metadata": {},
   "outputs": [
    {
     "name": "stdout",
     "output_type": "stream",
     "text": [
      "The accuracy is  [0.792, 0.6411764705882353, 0.9349593495934959]\n"
     ]
    }
   ],
   "source": [
    "def accuracy():\n",
    "    acc = []\n",
    "    for n in range(1, 4):\n",
    "        (training, test) = load_monks(n)\n",
    "        correct = 0\n",
    "        index = 0\n",
    "        prediction = step_three(training, get_prob_matrix(training), test)\n",
    "        for row in test[:,0]:\n",
    "            if row == prediction[index]:\n",
    "                correct +=1\n",
    "            index +=1\n",
    "        acc.append(correct/test.shape[0])\n",
    "    return acc\n",
    "print(\"The accuracy is \", accuracy())"
   ]
  },
  {
   "cell_type": "code",
   "execution_count": null,
   "metadata": {},
   "outputs": [],
   "source": []
  }
 ],
 "metadata": {
  "kernelspec": {
   "display_name": "Python 3",
   "language": "python",
   "name": "python3"
  },
  "language_info": {
   "codemirror_mode": {
    "name": "ipython",
    "version": 3
   },
   "file_extension": ".py",
   "mimetype": "text/x-python",
   "name": "python",
   "nbconvert_exporter": "python",
   "pygments_lexer": "ipython3",
   "version": "3.7.0"
  }
 },
 "nbformat": 4,
 "nbformat_minor": 2
}
